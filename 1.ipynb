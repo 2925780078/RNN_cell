{
 "cells": [
  {
   "cell_type": "code",
   "execution_count": 1,
   "id": "5141f1d0-89cf-42b1-b1ea-13f22d03b0c2",
   "metadata": {},
   "outputs": [],
   "source": [
    "import numpy as np\n",
    "import matplotlib as plt\n",
    "import time\n",
    "from tqdm import *\n"
   ]
  },
  {
   "cell_type": "code",
   "execution_count": 2,
   "id": "19f4f685-9feb-44a7-a745-b0cf85ab62a5",
   "metadata": {},
   "outputs": [],
   "source": [
    "import torch\n",
    "from torch.utils.data import DataLoader\n",
    "import torch.optim as optim"
   ]
  },
  {
   "cell_type": "code",
   "execution_count": 3,
   "id": "edeb2cd8-6197-48a5-974c-fa9c3db9a4d8",
   "metadata": {},
   "outputs": [
    {
     "name": "stdout",
     "output_type": "stream",
     "text": [
      "tensor([[[0., 1., 0., 0.]],\n",
      "\n",
      "        [[1., 0., 0., 0.]],\n",
      "\n",
      "        [[0., 0., 1., 0.]],\n",
      "\n",
      "        [[0., 0., 1., 0.]],\n",
      "\n",
      "        [[0., 0., 0., 1.]]])\n",
      "tensor([[3],\n",
      "        [1],\n",
      "        [2],\n",
      "        [3],\n",
      "        [2]])\n",
      "torch.Size([5, 1])\n",
      "[(tensor([[0., 1., 0., 0.]]), tensor([3])), (tensor([[1., 0., 0., 0.]]), tensor([1])), (tensor([[0., 0., 1., 0.]]), tensor([2])), (tensor([[0., 0., 1., 0.]]), tensor([3])), (tensor([[0., 0., 0., 1.]]), tensor([2]))]\n"
     ]
    }
   ],
   "source": [
    "input_size = 4\n",
    "hidden_size = 4\n",
    "batch_size = 1\n",
    "idx2char = ['e','h','l','o']\n",
    "x_data = [1,0,2,2,3]\n",
    "y_data = [3,1,2,3,2]\n",
    "\n",
    "one_hot_lookup = [[1,0,0,0],\n",
    "                  [0,1,0,0],\n",
    "                  [0,0,1,0],\n",
    "                  [0,0,0,1]\n",
    "]\n",
    "\n",
    "x_one_hot = [one_hot_lookup[x] for x in x_data]\n",
    "\n",
    "inputs = torch.Tensor(x_one_hot).view(-1,batch_size,input_size)\n",
    "#inputs.shape(seqlen,batch_size,input_size)\n",
    "labels = torch.LongTensor(y_data).view(-1,1)\n",
    "#labels.size(seq.size,1)\n",
    "print(inputs)\n",
    "print(labels)\n",
    "print(labels.shape)\n",
    "x = zip(inputs,labels)\n",
    "print(list(x))"
   ]
  },
  {
   "cell_type": "code",
   "execution_count": 4,
   "id": "bf814224-cb0b-458b-a732-801ab4136802",
   "metadata": {},
   "outputs": [],
   "source": [
    "class Model(torch.nn.Module):\n",
    "    def __init__(self,input_size,hidden_size,batch_size):\n",
    "        super(Model,self).__init__()\n",
    "        self.input_size = input_size\n",
    "        self.hidden_size = hidden_size\n",
    "        self.batch_size = batch_size\n",
    "        self.rnncell = torch.nn.RNNCell(input_size=self.input_size,hidden_size=self.hidden_size)\n",
    "        #实例化RNNcell\n",
    "    def forward(self,input,hidden):\n",
    "        hidden = self.rnncell(input,hidden)\n",
    "        return hidden\n",
    "\n",
    "    def init_hidden(self):\n",
    "        return torch.zeros(self.batch_size,self.hidden_size)\n",
    "    #如果在函数外就设置了h0，则省略这一步，并且不再需要batch_size\n",
    "    #hidden.shape(numLayers,batch_size,hidden_size)\n",
    "net = Model(input_size,hidden_size,batch_size)"
   ]
  },
  {
   "cell_type": "code",
   "execution_count": 5,
   "id": "4dd06666-3d99-43b5-933a-4bd5a0f82125",
   "metadata": {},
   "outputs": [],
   "source": [
    "criterion = torch.nn.CrossEntropyLoss()\n",
    "optimizer = torch.optim.Adam(net.parameters(),lr=0.1)"
   ]
  },
  {
   "cell_type": "code",
   "execution_count": 6,
   "id": "3c13f718-27c1-41fc-8ceb-4a1488189af6",
   "metadata": {},
   "outputs": [
    {
     "name": "stdout",
     "output_type": "stream",
     "text": [
      "predicted:hhhhh,Epoch[1/15] loss = 8.4057\n",
      "predicted:hhhho,Epoch[2/15] loss = 6.8713\n",
      "predicted:ohlll,Epoch[3/15] loss = 5.6024\n",
      "predicted:ohlol,Epoch[4/15] loss = 4.7212\n",
      "predicted:ohlol,Epoch[5/15] loss = 4.0734\n",
      "predicted:ohlol,Epoch[6/15] loss = 3.5519\n",
      "predicted:ohlol,Epoch[7/15] loss = 3.1731\n",
      "predicted:ohlol,Epoch[8/15] loss = 2.9017\n",
      "predicted:ohlol,Epoch[9/15] loss = 2.6959\n",
      "predicted:ohlol,Epoch[10/15] loss = 2.5220\n",
      "predicted:ohlol,Epoch[11/15] loss = 2.3679\n",
      "predicted:ohlol,Epoch[12/15] loss = 2.2432\n",
      "predicted:ohlol,Epoch[13/15] loss = 2.1553\n",
      "predicted:ohlol,Epoch[14/15] loss = 2.0940\n",
      "predicted:ohlol,Epoch[15/15] loss = 2.0433\n"
     ]
    }
   ],
   "source": [
    "for epoch in range(15):\n",
    "    loss = 0\n",
    "    optimizer.zero_grad()\n",
    "    hidden = net.init_hidden() #设置初始h0\n",
    "    print('predicted:',end = '')\n",
    "    for input ,label in zip(inputs,labels):\n",
    "        #zip将合并两个Tensor，其中的data一一对应\n",
    "        #input.size(batch_size,input_size)\n",
    "        #label.size(1)\n",
    "        hidden = net(input,hidden)\n",
    "        #向前传播\n",
    "        #inputs.shape(seqlen,batch_size,input_size)\n",
    "        #hidden.shape(numLayers,batch_size,hidden_size)\n",
    "        loss += criterion(hidden,label)\n",
    "        #网络的输出直接输入不需要激活函数，label也不需要变成one_hot向量\n",
    "        #序列中的每一步的损失都累加，即同一个cell的损失要累加\n",
    "        _,idx = hidden.max(dim=1)\n",
    "        print(idx2char[idx.item()],end='')\n",
    "    loss.backward()\n",
    "    optimizer.step()\n",
    "    print(',Epoch[%d/15] loss = %.4f' % (epoch+1,loss.item()))"
   ]
  },
  {
   "cell_type": "code",
   "execution_count": null,
   "id": "c8439b9a-b838-422a-977e-d0d5cd0f309f",
   "metadata": {},
   "outputs": [],
   "source": []
  }
 ],
 "metadata": {
  "kernelspec": {
   "display_name": "Python 3 (ipykernel)",
   "language": "python",
   "name": "python3"
  },
  "language_info": {
   "codemirror_mode": {
    "name": "ipython",
    "version": 3
   },
   "file_extension": ".py",
   "mimetype": "text/x-python",
   "name": "python",
   "nbconvert_exporter": "python",
   "pygments_lexer": "ipython3",
   "version": "3.9.7"
  }
 },
 "nbformat": 4,
 "nbformat_minor": 5
}
